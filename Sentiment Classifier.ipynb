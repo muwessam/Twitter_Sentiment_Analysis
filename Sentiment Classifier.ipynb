{
 "cells": [
  {
   "cell_type": "code",
   "execution_count": 9,
   "id": "eec16c70",
   "metadata": {},
   "outputs": [],
   "source": [
    "punctuation_chars = [\"'\", '\"', \",\", \".\", \"!\", \":\", \";\", '#', '@']"
   ]
  },
  {
   "cell_type": "code",
   "execution_count": 10,
   "id": "43c033f0",
   "metadata": {},
   "outputs": [],
   "source": [
    "positive_words = []\n",
    "with open(\"positive_words.txt\") as pos_f:\n",
    "    for lin in pos_f:\n",
    "        if lin[0] != ';' and lin[0] != '\\n':\n",
    "            positive_words.append(lin.strip())"
   ]
  },
  {
   "cell_type": "code",
   "execution_count": 11,
   "id": "b28cf2a5",
   "metadata": {},
   "outputs": [],
   "source": [
    "negative_words = []\n",
    "with open(\"negative_words.txt\") as pos_f:\n",
    "    for lin in pos_f:\n",
    "        if lin[0] != ';' and lin[0] != '\\n':\n",
    "            negative_words.append(lin.strip())"
   ]
  },
  {
   "cell_type": "code",
   "execution_count": 12,
   "id": "6537b92c",
   "metadata": {},
   "outputs": [],
   "source": [
    "def strip_punctuation(word):\n",
    "    for letter in word:\n",
    "        if letter in punctuation_chars:\n",
    "            word = word.replace(letter, '')\n",
    "    return word"
   ]
  },
  {
   "cell_type": "code",
   "execution_count": 13,
   "id": "826afba5",
   "metadata": {},
   "outputs": [],
   "source": [
    "def get_pos(string):\n",
    "    words = string.split(\" \")\n",
    "    nwords = []\n",
    "    \n",
    "    for word in words:\n",
    "        nwords.append(strip_punctuation(word))\n",
    "    \n",
    "    p_counter = 0\n",
    "    for word in nwords:\n",
    "        if word.lower() in positive_words:\n",
    "            p_counter += 1\n",
    "    return p_counter"
   ]
  },
  {
   "cell_type": "code",
   "execution_count": 14,
   "id": "55775979",
   "metadata": {},
   "outputs": [],
   "source": [
    "def get_neg(string):\n",
    "    words = string.split(\" \")\n",
    "    nwords = []\n",
    "    \n",
    "    for word in words:\n",
    "        nwords.append(strip_punctuation(word))\n",
    "   \n",
    "    n_counter = 0\n",
    "    for word in nwords:\n",
    "        if word.lower() in negative_words:\n",
    "            n_counter += 1\n",
    "    return n_counter"
   ]
  },
  {
   "cell_type": "code",
   "execution_count": 15,
   "id": "5b191352",
   "metadata": {},
   "outputs": [],
   "source": [
    "resulting_list = []\n",
    "twitter_data = open('project_twitter_data.csv', 'r')\n",
    "lines = twitter_data.readlines()\n",
    "headers = lines[0].split(',')\n",
    "for tweet_info in lines[1:]:\n",
    "    values = tweet_info.split(',')\n",
    "    p = get_pos(values[0])\n",
    "    n = get_neg(values[0])\n",
    "    \n",
    "    values[2] = values[2].replace('\\n', '')\n",
    "    resulting_list.append((int(values[1]), \n",
    "                           int(values[2]), \n",
    "                           p, n, \n",
    "                           p-n))\n",
    "twitter_data.close()"
   ]
  },
  {
   "cell_type": "code",
   "execution_count": 16,
   "id": "b724254b",
   "metadata": {},
   "outputs": [],
   "source": [
    "results = open('resulting_data.csv', 'w')\n",
    "results.write('Number of Retweets, Number of Replies, Positive Score, Negative Score, Net Score')\n",
    "results.write('\\n')\n",
    "for tweet_info in resulting_list:\n",
    "    tweet_data = '{}, {}, {}, {}, {}'.format(tweet_info[0], \n",
    "                                             tweet_info[1],\n",
    "                                             tweet_info[2], \n",
    "                                             tweet_info[3], \n",
    "                                             tweet_info[4])\n",
    "    results.write(tweet_data)\n",
    "    results.write('\\n')\n",
    "\n",
    "results.close()"
   ]
  },
  {
   "cell_type": "code",
   "execution_count": 18,
   "id": "ee5b97fc",
   "metadata": {},
   "outputs": [],
   "source": [
    "import matplotlib.pyplot as plt"
   ]
  },
  {
   "cell_type": "code",
   "execution_count": 20,
   "id": "52c42519",
   "metadata": {},
   "outputs": [],
   "source": [
    "x_NetScore = [ info[-1] for info in resulting_list ]\n",
    "y_Retweets = [ info[0] for info in resulting_list ]"
   ]
  },
  {
   "cell_type": "code",
   "execution_count": 31,
   "id": "42abab1e",
   "metadata": {},
   "outputs": [
    {
     "data": {
      "image/png": "[encoded data removed]",
      "text/plain": [
       "<Figure size 432x288 with 1 Axes>"
      ]
     },
     "metadata": {
      "needs_background": "light"
     },
     "output_type": "display_data"
    }
   ],
   "source": [
    "plt.scatter(x_NetScore, y_Retweets, color = 'g')\n",
    "plt.title('Sentimency & Popularity Analysis')\n",
    "plt.xlabel('Net Score', color = 'r')\n",
    "plt.ylabel('Number of Retweets', color = 'blue')\n",
    "plt.show()"
   ]
  }
 ],
 "metadata": {
  "kernelspec": {
   "display_name": "Python 3",
   "language": "python",
   "name": "python3"
  },
  "language_info": {
   "codemirror_mode": {
    "name": "ipython",
    "version": 3
   },
   "file_extension": ".py",
   "mimetype": "text/x-python",
   "name": "python",
   "nbconvert_exporter": "python",
   "pygments_lexer": "ipython3",
   "version": "3.8.8"
  }
 },
 "nbformat": 4,
 "nbformat_minor": 5
}
